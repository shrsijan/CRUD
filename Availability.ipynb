{
  "nbformat": 4,
  "nbformat_minor": 0,
  "metadata": {
    "colab": {
      "provenance": [],
      "authorship_tag": "ABX9TyPk9iqQpz2T+OOjHFnH9ihc",
      "include_colab_link": true
    },
    "kernelspec": {
      "name": "python3",
      "display_name": "Python 3"
    },
    "language_info": {
      "name": "python"
    }
  },
  "cells": [
    {
      "cell_type": "markdown",
      "metadata": {
        "id": "view-in-github",
        "colab_type": "text"
      },
      "source": [
        "<a href=\"https://colab.research.google.com/github/shrsijan/CRUD/blob/main/Availability.ipynb\" target=\"_parent\"><img src=\"https://colab.research.google.com/assets/colab-badge.svg\" alt=\"Open In Colab\"/></a>"
      ]
    },
    {
      "cell_type": "code",
      "source": [
        "import random\n",
        "from tabulate import tabulate\n",
        "\n",
        "#generate random available times for each person\n",
        "def generate_availability(num_people):\n",
        "    availability = {}\n",
        "    for person in range(1, num_people + 1):\n",
        "        available_times = []\n",
        "        for _ in range(random.randint(1, 5)):  # Randomly generates available times per person\n",
        "            start_time = random.randint(0, 23)  # Random start hour for the available time frame\n",
        "            end_time = random.randint(start_time + 1, 24)  # Random end hour after start hour marking end of the available time\n",
        "            available_times.append((start_time, end_time))\n",
        "        availability[f\"Person {person}\"] = available_times\n",
        "    return availability\n",
        "\n",
        "def convert_to_ampm(hour): # convert 24-hour format to AM/PM\n",
        "    if hour == 0:\n",
        "        return \"12 AM\"\n",
        "    elif hour < 12:\n",
        "        return f\"{hour} AM\"\n",
        "    elif hour == 12:\n",
        "        return \"12 PM\"\n",
        "    else:\n",
        "        return f\"{hour - 12} PM\"\n",
        "\n",
        "num_people = int(input(\"Enter the number of people: \"))\n",
        "\n",
        "\n",
        "availability = generate_availability(num_people)\n",
        "\n",
        "\n",
        "availability_table = {} # Initialzing table\n",
        "for hour in range(24):\n",
        "    time_slot = convert_to_ampm(hour)\n",
        "    availability_table[time_slot] = [''] * num_people\n",
        "\n",
        "time_slots = list(availability_table.keys())\n",
        "\n",
        "\n",
        "for person, times in availability.items(): #filling table\n",
        "    for start, end in times:\n",
        "        for hour in range(start, end):\n",
        "            time_slot = convert_to_ampm(hour)\n",
        "            person_index = int(person.split()[1]) - 1\n",
        "            availability_table[time_slot][person_index] = 'X'\n",
        "\n",
        "\n",
        "table_data = []\n",
        "for time_slot in time_slots:\n",
        "    row = [time_slot] + availability_table[time_slot]\n",
        "    table_data.append(row)\n",
        "\n",
        "\n",
        "# Print availability table\n",
        "print(\"\\nAvailability:\")\n",
        "print(tabulate(table_data, headers=[\"Time\"] + [f\"Person {i+1}\" for i in range(num_people)]))\n",
        "\n",
        "# Count the number of available people for each time slot\n",
        "available_counts = {}\n",
        "for time_slot in time_slots:\n",
        "    count = 0\n",
        "    for person_available in availability_table[time_slot]:\n",
        "      if person_available == 'X':\n",
        "        count += 1\n",
        "    available_counts[time_slot] = count\n",
        "\n",
        "# Find the time slot with the maximum number of available people\n",
        "max_available_slot = max(available_counts, key=available_counts.get)\n",
        "\n",
        "# Print the suggested time slot\n",
        "print(f\"\\nSuggested Time Slot: {max_available_slot} (Majority of {available_counts[max_available_slot]} people available)\")\n"
      ],
      "metadata": {
        "colab": {
          "base_uri": "https://localhost:8080/"
        },
        "id": "DrrY2n2D1wkn",
        "outputId": "2c0d2c65-6067-4489-ce78-c682598fb06f"
      },
      "execution_count": 7,
      "outputs": [
        {
          "output_type": "stream",
          "name": "stdout",
          "text": [
            "Enter the number of people: 7\n",
            "\n",
            "Availability:\n",
            "Time    Person 1    Person 2    Person 3    Person 4    Person 5    Person 6    Person 7\n",
            "------  ----------  ----------  ----------  ----------  ----------  ----------  ----------\n",
            "12 AM                                       X           X\n",
            "1 AM                X                       X           X\n",
            "2 AM                X           X           X           X\n",
            "3 AM                X           X           X           X\n",
            "4 AM                X           X           X           X\n",
            "5 AM                X           X                       X                       X\n",
            "6 AM                X           X                       X           X           X\n",
            "7 AM                X           X                       X           X           X\n",
            "8 AM                X           X           X           X           X           X\n",
            "9 AM    X           X           X           X           X           X           X\n",
            "10 AM   X           X           X           X           X           X           X\n",
            "11 AM   X           X           X           X           X           X           X\n",
            "12 PM               X           X           X           X           X           X\n",
            "1 PM                X           X                       X           X           X\n",
            "2 PM    X           X           X                       X           X           X\n",
            "3 PM    X           X           X                       X           X           X\n",
            "4 PM    X           X           X                       X           X           X\n",
            "5 PM    X           X           X                       X           X           X\n",
            "6 PM    X           X           X           X           X           X           X\n",
            "7 PM    X           X           X           X           X           X           X\n",
            "8 PM    X           X                       X           X           X           X\n",
            "9 PM    X           X                                   X           X           X\n",
            "10 PM   X           X                                   X           X\n",
            "11 PM   X           X                                   X           X\n",
            "\n",
            "Suggested Time Slot: 9 AM (Majority of 7 people available)\n"
          ]
        }
      ]
    }
  ]
}